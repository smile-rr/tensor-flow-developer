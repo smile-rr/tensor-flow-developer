{
  "nbformat": 4,
  "nbformat_minor": 0,
  "metadata": {
    "colab": {
      "provenance": [],
      "authorship_tag": "ABX9TyP4Zp1W1gmNDbCoI/qEbmK/",
      "include_colab_link": true
    },
    "kernelspec": {
      "name": "python3",
      "display_name": "Python 3"
    },
    "language_info": {
      "name": "python"
    }
  },
  "cells": [
    {
      "cell_type": "markdown",
      "metadata": {
        "id": "view-in-github",
        "colab_type": "text"
      },
      "source": [
        "<a href=\"https://colab.research.google.com/github/smile-rr/tensor-flow-developer/blob/main/tf_w2_lab1_computer_vision.ipynb\" target=\"_parent\"><img src=\"https://colab.research.google.com/assets/colab-badge.svg\" alt=\"Open In Colab\"/></a>"
      ]
    },
    {
      "cell_type": "code",
      "execution_count": 1,
      "metadata": {
        "id": "tceOwX_YMIqV"
      },
      "outputs": [],
      "source": [
        "import tensorflow as tf\n",
        "import numpy as np\n",
        "import matplotlib.pyplot as plt\n"
      ]
    },
    {
      "cell_type": "code",
      "source": [
        "# load Fashion MNIST dataset\n",
        "fmnist = tf.keras.datasets.fashion_mnist\n",
        "(training_images, training_labels), (test_images, test_labels) = fmnist.load_data()\n"
      ],
      "metadata": {
        "colab": {
          "base_uri": "https://localhost:8080/"
        },
        "id": "58J2KiNgMXiL",
        "outputId": "7b50912c-c5da-43e3-849c-3bd066fb9d7e"
      },
      "execution_count": 2,
      "outputs": [
        {
          "output_type": "stream",
          "name": "stdout",
          "text": [
            "Downloading data from https://storage.googleapis.com/tensorflow/tf-keras-datasets/train-labels-idx1-ubyte.gz\n",
            "\u001b[1m29515/29515\u001b[0m \u001b[32m━━━━━━━━━━━━━━━━━━━━\u001b[0m\u001b[37m\u001b[0m \u001b[1m0s\u001b[0m 0us/step\n",
            "Downloading data from https://storage.googleapis.com/tensorflow/tf-keras-datasets/train-images-idx3-ubyte.gz\n",
            "\u001b[1m26421880/26421880\u001b[0m \u001b[32m━━━━━━━━━━━━━━━━━━━━\u001b[0m\u001b[37m\u001b[0m \u001b[1m2s\u001b[0m 0us/step\n",
            "Downloading data from https://storage.googleapis.com/tensorflow/tf-keras-datasets/t10k-labels-idx1-ubyte.gz\n",
            "\u001b[1m5148/5148\u001b[0m \u001b[32m━━━━━━━━━━━━━━━━━━━━\u001b[0m\u001b[37m\u001b[0m \u001b[1m0s\u001b[0m 1us/step\n",
            "Downloading data from https://storage.googleapis.com/tensorflow/tf-keras-datasets/t10k-images-idx3-ubyte.gz\n",
            "\u001b[1m4422102/4422102\u001b[0m \u001b[32m━━━━━━━━━━━━━━━━━━━━\u001b[0m\u001b[37m\u001b[0m \u001b[1m1s\u001b[0m 0us/step\n"
          ]
        }
      ]
    },
    {
      "cell_type": "code",
      "source": [
        "index = 5\n",
        "np.set_printoptions(linewidth = 320)\n",
        "print(f'LABEL: {training_labels[index]}')\n",
        "print(f'\\nIMAGE PIXEL ARRAY:\\n {training_images[index]})')\n",
        "print(f\"image shape:{training_images[index].shape}\")"
      ],
      "metadata": {
        "colab": {
          "base_uri": "https://localhost:8080/"
        },
        "id": "ZJioM5d2MxNQ",
        "outputId": "1b974add-cd77-4206-c718-f839b15244cc"
      },
      "execution_count": 14,
      "outputs": [
        {
          "output_type": "stream",
          "name": "stdout",
          "text": [
            "LABEL: 2\n",
            "\n",
            "IMAGE PIXEL ARRAY:\n",
            " [[0.         0.         0.         0.         0.00392157 0.         0.         0.         0.         0.08627451 0.34509804 0.7372549  0.6745098  0.51764706 0.49019608 0.55294118 0.78039216 0.56078431 0.03529412 0.         0.         0.         0.00392157 0.         0.         0.         0.         0.        ]\n",
            " [0.         0.         0.         0.00392157 0.         0.         0.07843137 0.51372549 0.78039216 0.80784314 0.76862745 0.79215686 0.94901961 1.         1.         0.98039216 0.87058824 0.77254902 0.80784314 0.7372549  0.49411765 0.06666667 0.         0.         0.         0.         0.         0.        ]\n",
            " [0.         0.         0.         0.00392157 0.         0.1372549  0.83921569 0.74901961 0.71764706 0.69803922 0.68627451 0.65882353 0.58823529 0.63529412 0.62352941 0.59607843 0.61960784 0.70196078 0.71764706 0.74117647 0.76470588 0.7254902  0.32156863 0.         0.         0.         0.         0.        ]\n",
            " [0.         0.         0.         0.         0.         0.66666667 0.74509804 0.6745098  0.69411765 0.69019608 0.67058824 0.6627451  0.63529412 0.60784314 0.58039216 0.60392157 0.6627451  0.68235294 0.68627451 0.68627451 0.69411765 0.71764706 0.7372549  0.04705882 0.         0.         0.         0.        ]\n",
            " [0.         0.         0.         0.         0.09803922 0.76078431 0.70588235 0.69803922 0.68235294 0.72156863 0.73333333 0.74117647 0.73333333 0.72156863 0.70980392 0.74117647 0.78431373 0.77254902 0.75686275 0.74509804 0.69803922 0.68627451 0.76078431 0.35294118 0.         0.         0.         0.        ]\n",
            " [0.         0.         0.         0.         0.16470588 0.85490196 0.74901961 0.77254902 0.81568627 0.8        0.82745098 0.81960784 0.82352941 0.83137255 0.82745098 0.83921569 0.84313725 0.83529412 0.83921569 0.82745098 0.82745098 0.74901961 0.78431373 0.61960784 0.         0.         0.         0.        ]\n",
            " [0.         0.         0.         0.         0.34509804 0.86666667 0.84313725 0.85098039 0.85882353 0.82745098 0.7254902  0.58823529 0.4627451  0.41960784 0.38823529 0.34509804 0.3254902  0.35294118 0.52941176 0.83137255 0.79607843 0.81176471 0.85882353 0.6627451  0.         0.         0.         0.        ]\n",
            " [0.         0.         0.         0.         0.         0.10588235 0.4627451  0.63529412 0.15686275 0.         0.         0.         0.03921569 0.0745098  0.10980392 0.15294118 0.18431373 0.14117647 0.         0.         0.79607843 0.90196078 0.8627451  0.79607843 0.         0.         0.         0.        ]\n",
            " [0.         0.         0.         0.         0.54117647 0.53333333 0.27843137 0.27058824 0.21176471 0.84705882 0.85098039 0.79607843 0.72156863 0.65882353 0.63921569 0.63529412 0.63921569 0.69803922 0.86666667 0.72941176 0.14901961 0.10196078 0.02745098 0.         0.         0.         0.         0.        ]\n",
            " [0.         0.         0.         0.         0.2627451  0.5254902  0.60392157 0.87843137 0.50588235 0.25882353 0.31764706 0.45882353 0.50588235 0.50196078 0.51764706 0.5372549  0.51372549 0.50588235 0.3372549  0.28627451 0.61568627 0.59215686 0.5254902  0.84705882 0.07058824 0.         0.         0.        ]\n",
            " [0.         0.         0.         0.         0.79607843 0.77647059 0.6745098  0.71764706 0.80784314 1.         1.         0.98039216 0.95294118 0.94117647 0.9372549  0.92156863 0.93333333 0.95686275 1.         0.93333333 0.72156863 0.62745098 0.3372549  0.38431373 0.         0.         0.         0.        ]\n",
            " [0.         0.         0.         0.         0.47843137 0.7372549  0.87843137 0.59215686 0.41176471 0.49803922 0.38039216 0.39215686 0.41176471 0.44705882 0.45882353 0.45882353 0.44313725 0.40392157 0.38431373 0.43529412 0.55686275 0.99607843 0.74901961 1.         0.19215686 0.         0.         0.        ]\n",
            " [0.         0.         0.         0.         0.63921569 0.70196078 0.78431373 0.37254902 0.60392157 0.77647059 0.77254902 0.78431373 0.78431373 0.77647059 0.77254902 0.77647059 0.78039216 0.79215686 0.78431373 0.69019608 0.3372549  0.80784314 0.61568627 0.63529412 0.03921569 0.         0.         0.        ]\n",
            " [0.         0.         0.         0.         0.77254902 0.78823529 0.89803922 0.27843137 0.56470588 0.76078431 0.70980392 0.71764706 0.70196078 0.71372549 0.70588235 0.70196078 0.70588235 0.74509804 0.7254902  0.77254902 0.29803922 0.85882353 0.7254902  0.78823529 0.13333333 0.         0.         0.        ]\n",
            " [0.         0.         0.         0.         0.78039216 0.75686275 0.88627451 0.22745098 0.60392157 0.75294118 0.72156863 0.73333333 0.72156863 0.72941176 0.72156863 0.7254902  0.71764706 0.75294118 0.74901961 0.78431373 0.21960784 0.85882353 0.79607843 0.81176471 0.23529412 0.         0.         0.        ]\n",
            " [0.         0.         0.         0.         0.78823529 0.76078431 0.87843137 0.16078431 0.63921569 0.74509804 0.72941176 0.72941176 0.72156863 0.7254902  0.71764706 0.7254902  0.69803922 0.74509804 0.76078431 0.79215686 0.12941176 0.82745098 0.78431373 0.80784314 0.28627451 0.         0.         0.        ]\n",
            " [0.         0.         0.         0.         0.78823529 0.77254902 0.87058824 0.06666667 0.6745098  0.74509804 0.72941176 0.73333333 0.71372549 0.72941176 0.7254902  0.73333333 0.70588235 0.73333333 0.75686275 0.79215686 0.10196078 0.83137255 0.79215686 0.79607843 0.29803922 0.         0.         0.        ]\n",
            " [0.         0.         0.         0.         0.78431373 0.77254902 0.8745098  0.         0.69411765 0.74117647 0.72156863 0.7254902  0.69803922 0.72156863 0.71764706 0.72156863 0.70588235 0.71764706 0.74117647 0.79607843 0.1372549  0.76862745 0.79607843 0.79607843 0.32941176 0.         0.         0.        ]\n",
            " [0.         0.         0.         0.         0.78431373 0.77254902 0.8745098  0.         0.7254902  0.73333333 0.7254902  0.73333333 0.70588235 0.72156863 0.71372549 0.71764706 0.69803922 0.71372549 0.71764706 0.80392157 0.17254902 0.62352941 0.81176471 0.78823529 0.33333333 0.         0.         0.        ]\n",
            " [0.         0.         0.         0.         0.73333333 0.77647059 0.88235294 0.         0.76078431 0.7372549  0.72156863 0.7254902  0.70588235 0.71764706 0.71764706 0.72156863 0.70980392 0.70980392 0.69411765 0.80784314 0.18039216 0.50588235 0.82745098 0.78431373 0.34509804 0.         0.         0.        ]\n",
            " [0.         0.         0.         0.02352941 0.72941176 0.78431373 0.82745098 0.         0.78039216 0.74117647 0.72156863 0.72156863 0.7254902  0.71372549 0.71764706 0.72156863 0.7254902  0.71372549 0.68627451 0.80392157 0.19607843 0.38039216 0.84705882 0.77254902 0.36470588 0.         0.         0.        ]\n",
            " [0.         0.         0.         0.01960784 0.7254902  0.8        0.72156863 0.         0.79215686 0.7372549  0.71372549 0.71372549 0.71764706 0.71764706 0.72156863 0.71372549 0.70588235 0.71372549 0.68235294 0.79215686 0.24705882 0.23137255 0.8627451  0.76862745 0.36862745 0.         0.         0.        ]\n",
            " [0.         0.         0.         0.01960784 0.72156863 0.80784314 0.61568627 0.         0.8        0.73333333 0.73333333 0.74117647 0.75294118 0.74509804 0.74509804 0.74901961 0.74509804 0.73333333 0.71764706 0.79215686 0.30588235 0.1372549  0.87058824 0.77254902 0.37254902 0.         0.         0.        ]\n",
            " [0.         0.         0.         0.01960784 0.71764706 0.81568627 0.49803922 0.         0.77254902 0.65098039 0.6        0.58431373 0.58431373 0.57254902 0.58039216 0.58431373 0.58823529 0.59215686 0.61960784 0.74901961 0.35294118 0.03137255 0.8745098  0.76470588 0.38823529 0.         0.         0.        ]\n",
            " [0.         0.         0.         0.02352941 0.72156863 0.81568627 0.44705882 0.         0.8        0.67843137 0.63137255 0.70588235 0.69019608 0.6745098  0.67843137 0.67843137 0.68235294 0.69019608 0.63529412 0.79215686 0.45098039 0.         0.89803922 0.78039216 0.41176471 0.         0.         0.        ]\n",
            " [0.         0.         0.         0.03529412 0.69803922 0.8        0.45098039 0.         0.4745098  0.52941176 0.44705882 0.45882353 0.44705882 0.44705882 0.45882353 0.4627451  0.46666667 0.45882353 0.44313725 0.57647059 0.24705882 0.         0.88235294 0.76862745 0.41960784 0.         0.         0.        ]\n",
            " [0.         0.         0.         0.07058824 0.70588235 0.80784314 0.51372549 0.         0.         0.         0.         0.         0.         0.         0.         0.         0.         0.         0.         0.         0.         0.         0.87843137 0.77254902 0.48235294 0.         0.         0.        ]\n",
            " [0.         0.         0.         0.         0.55294118 0.59215686 0.29803922 0.         0.00392157 0.00392157 0.         0.         0.         0.         0.         0.         0.         0.         0.         0.         0.         0.         0.52156863 0.65490196 0.28627451 0.         0.         0.        ]])\n",
            "image shape:(28, 28)\n"
          ]
        }
      ]
    },
    {
      "cell_type": "code",
      "source": [
        "plt.imshow(training_images[index])\n",
        "plt.colorbar()\n",
        "plt.show()"
      ],
      "metadata": {
        "colab": {
          "base_uri": "https://localhost:8080/",
          "height": 430
        },
        "id": "SVugx-J7NBFV",
        "outputId": "45c38657-63ae-4b4d-d223-06def364d6ac"
      },
      "execution_count": 11,
      "outputs": [
        {
          "output_type": "display_data",
          "data": {
            "text/plain": [
              "<Figure size 640x480 with 2 Axes>"
            ],
            "image/png": "[encoded data removed]"
          },
          "metadata": {}
        }
      ]
    },
    {
      "cell_type": "code",
      "source": [
        "training_images = training_images / 255.0\n",
        "test_images = test_images / 255.0"
      ],
      "metadata": {
        "id": "l9xzfPs6NMey"
      },
      "execution_count": 12,
      "outputs": []
    },
    {
      "cell_type": "code",
      "source": [
        "model = tf.keras.models.Sequential([\n",
        "    tf.keras.Input(shape=(28, 28)),\n",
        "    tf.keras.layers.Flatten(),\n",
        "    tf.keras.layers.Dense(128, activation=tf.nn.relu),\n",
        "    tf.keras.layers.Dense(10, activation=tf.nn.softmax)\n",
        "])\n"
      ],
      "metadata": {
        "id": "Izz-WynlNqjH"
      },
      "execution_count": 13,
      "outputs": []
    },
    {
      "cell_type": "code",
      "source": [
        "inputs = np.array([[1.0, 3.0, 4.0, 2.0]])\n",
        "inputs = tf.convert_to_tensor(inputs)\n",
        "print(f'input to softmax function: {inputs.numpy()}')\n",
        "\n",
        "outputs = tf.nn.softmax(inputs)\n",
        "print(f'output of softmax function: {outputs.numpy()}')\n",
        "\n",
        "sum = tf.reduce_sum(outputs)\n",
        "print(f'sum of outputs: {sum}')\n",
        "\n",
        "prediction = np.argmax(outputs)\n",
        "print(f'class with highest probability: {prediction}')"
      ],
      "metadata": {
        "colab": {
          "base_uri": "https://localhost:8080/"
        },
        "id": "iQyMgYAYOXHz",
        "outputId": "db9d0961-db40-44f5-b21a-9ffaa250ab6a"
      },
      "execution_count": 16,
      "outputs": [
        {
          "output_type": "stream",
          "name": "stdout",
          "text": [
            "input to softmax function: [[1. 3. 4. 2.]]\n",
            "output of softmax function: [[0.0320586  0.23688282 0.64391426 0.08714432]]\n",
            "sum of outputs: 1.0\n",
            "class with highest probability: 2\n"
          ]
        }
      ]
    },
    {
      "cell_type": "code",
      "source": [
        "model.compile(optimizer = tf.optimizers.Adam(),\n",
        "              loss = 'sparse_categorical_crossentropy',\n",
        "              metrics=['accuracy'])\n",
        "model.fit(training_images, training_labels, epochs=5)"
      ],
      "metadata": {
        "colab": {
          "base_uri": "https://localhost:8080/"
        },
        "id": "VKaSmJmaQN4V",
        "outputId": "1e684125-2b91-4e2f-94c2-947147944288"
      },
      "execution_count": 17,
      "outputs": [
        {
          "output_type": "stream",
          "name": "stdout",
          "text": [
            "Epoch 1/5\n",
            "\u001b[1m1875/1875\u001b[0m \u001b[32m━━━━━━━━━━━━━━━━━━━━\u001b[0m\u001b[37m\u001b[0m \u001b[1m7s\u001b[0m 3ms/step - accuracy: 0.7843 - loss: 0.6276\n",
            "Epoch 2/5\n",
            "\u001b[1m1875/1875\u001b[0m \u001b[32m━━━━━━━━━━━━━━━━━━━━\u001b[0m\u001b[37m\u001b[0m \u001b[1m13s\u001b[0m 4ms/step - accuracy: 0.8629 - loss: 0.3870\n",
            "Epoch 3/5\n",
            "\u001b[1m1875/1875\u001b[0m \u001b[32m━━━━━━━━━━━━━━━━━━━━\u001b[0m\u001b[37m\u001b[0m \u001b[1m5s\u001b[0m 2ms/step - accuracy: 0.8767 - loss: 0.3352\n",
            "Epoch 4/5\n",
            "\u001b[1m1875/1875\u001b[0m \u001b[32m━━━━━━━━━━━━━━━━━━━━\u001b[0m\u001b[37m\u001b[0m \u001b[1m5s\u001b[0m 2ms/step - accuracy: 0.8855 - loss: 0.3125\n",
            "Epoch 5/5\n",
            "\u001b[1m1875/1875\u001b[0m \u001b[32m━━━━━━━━━━━━━━━━━━━━\u001b[0m\u001b[37m\u001b[0m \u001b[1m6s\u001b[0m 3ms/step - accuracy: 0.8919 - loss: 0.2925\n"
          ]
        },
        {
          "output_type": "execute_result",
          "data": {
            "text/plain": [
              "<keras.src.callbacks.history.History at 0x7d24b2adb610>"
            ]
          },
          "metadata": {},
          "execution_count": 17
        }
      ]
    },
    {
      "cell_type": "code",
      "source": [
        "model.evaluate(test_images, test_labels)"
      ],
      "metadata": {
        "colab": {
          "base_uri": "https://localhost:8080/"
        },
        "id": "7tVxBJc9RMQq",
        "outputId": "837b63dd-7712-4c03-90e4-173abd6c0b45"
      },
      "execution_count": 18,
      "outputs": [
        {
          "output_type": "stream",
          "name": "stdout",
          "text": [
            "\u001b[1m313/313\u001b[0m \u001b[32m━━━━━━━━━━━━━━━━━━━━\u001b[0m\u001b[37m\u001b[0m \u001b[1m1s\u001b[0m 1ms/step - accuracy: 0.8736 - loss: 0.3456\n"
          ]
        },
        {
          "output_type": "execute_result",
          "data": {
            "text/plain": [
              "[0.3436738848686218, 0.875]"
            ]
          },
          "metadata": {},
          "execution_count": 18
        }
      ]
    },
    {
      "cell_type": "code",
      "source": [
        "classifications = model.predict(test_images)\n",
        "print(f\"predicat: {classifications[5]}\")\n",
        "print(f\"expected: {test_labels[5]}\")"
      ],
      "metadata": {
        "colab": {
          "base_uri": "https://localhost:8080/"
        },
        "id": "aGCaEqmlRs2T",
        "outputId": "c613f82e-5d5e-40de-dc6b-81b0e2071376"
      },
      "execution_count": 21,
      "outputs": [
        {
          "output_type": "stream",
          "name": "stdout",
          "text": [
            "\u001b[1m313/313\u001b[0m \u001b[32m━━━━━━━━━━━━━━━━━━━━\u001b[0m\u001b[37m\u001b[0m \u001b[1m1s\u001b[0m 2ms/step\n",
            "predicat: [1.9521632e-03 9.9756819e-01 1.2883834e-04 5.6634053e-05 2.7512537e-05 4.9372245e-10 2.6624228e-04 1.7896616e-11 5.0866896e-07 9.2048857e-09]\n",
            "expected: 1\n"
          ]
        }
      ]
    },
    {
      "cell_type": "code",
      "source": [
        "fmnist = tf.keras.datasets.fashion_mnist\n",
        "\n",
        "(training_images, training_labels), (test_images, test_labels) = fmnist.load_data()\n",
        "\n",
        "training_images = training_images / 255.0\n",
        "test_images = test_images / 255.0\n",
        "\n",
        "model = tf.keras.models.Sequential([\n",
        "    tf.keras.Input(shape=(28,28)),\n",
        "    tf.keras.layers.Flatten(),\n",
        "    tf.keras.layers.Dense(512, activation=tf.nn.relu), # Try experimenting with this layer\n",
        "    tf.keras.layers.Dense(10, activation=tf.nn.softmax)\n",
        "])\n",
        "\n",
        "model.compile(optimizer='adam', loss='sparse_categorical_crossentropy', metrics=['accuracy'])\n",
        "\n",
        "print(\"Training:\\n\")\n",
        "model.fit(training_images, training_labels, epochs=15)\n",
        "\n",
        "print(\"\\nEvaluating on test set:\\n\")\n",
        "model.evaluate(test_images, test_labels)\n",
        "\n",
        "print(\"\\nPredicting using test set:\\n\")\n",
        "predictions = model.predict(test_images)\n",
        "\n",
        "print(f\"\\nTrue class for first image on test set: {test_labels[0]}\\nProbability of each class:\\n{predictions[0]}\")"
      ],
      "metadata": {
        "colab": {
          "base_uri": "https://localhost:8080/"
        },
        "id": "LF_7TF7ZUTDQ",
        "outputId": "c3b47b53-80ff-4268-fb47-f4dd6ba5f973"
      },
      "execution_count": 25,
      "outputs": [
        {
          "output_type": "stream",
          "name": "stdout",
          "text": [
            "Training:\n",
            "\n",
            "Epoch 1/15\n",
            "\u001b[1m1875/1875\u001b[0m \u001b[32m━━━━━━━━━━━━━━━━━━━━\u001b[0m\u001b[37m\u001b[0m \u001b[1m11s\u001b[0m 5ms/step - accuracy: 0.7982 - loss: 0.5818\n",
            "Epoch 2/15\n",
            "\u001b[1m1875/1875\u001b[0m \u001b[32m━━━━━━━━━━━━━━━━━━━━\u001b[0m\u001b[37m\u001b[0m \u001b[1m10s\u001b[0m 6ms/step - accuracy: 0.8634 - loss: 0.3736\n",
            "Epoch 3/15\n",
            "\u001b[1m1875/1875\u001b[0m \u001b[32m━━━━━━━━━━━━━━━━━━━━\u001b[0m\u001b[37m\u001b[0m \u001b[1m20s\u001b[0m 6ms/step - accuracy: 0.8824 - loss: 0.3189\n",
            "Epoch 4/15\n",
            "\u001b[1m1875/1875\u001b[0m \u001b[32m━━━━━━━━━━━━━━━━━━━━\u001b[0m\u001b[37m\u001b[0m \u001b[1m20s\u001b[0m 6ms/step - accuracy: 0.8895 - loss: 0.3008\n",
            "Epoch 5/15\n",
            "\u001b[1m1875/1875\u001b[0m \u001b[32m━━━━━━━━━━━━━━━━━━━━\u001b[0m\u001b[37m\u001b[0m \u001b[1m10s\u001b[0m 5ms/step - accuracy: 0.8976 - loss: 0.2795\n",
            "Epoch 6/15\n",
            "\u001b[1m1875/1875\u001b[0m \u001b[32m━━━━━━━━━━━━━━━━━━━━\u001b[0m\u001b[37m\u001b[0m \u001b[1m10s\u001b[0m 5ms/step - accuracy: 0.9020 - loss: 0.2666\n",
            "Epoch 7/15\n",
            "\u001b[1m1875/1875\u001b[0m \u001b[32m━━━━━━━━━━━━━━━━━━━━\u001b[0m\u001b[37m\u001b[0m \u001b[1m11s\u001b[0m 5ms/step - accuracy: 0.9053 - loss: 0.2531\n",
            "Epoch 8/15\n",
            "\u001b[1m1875/1875\u001b[0m \u001b[32m━━━━━━━━━━━━━━━━━━━━\u001b[0m\u001b[37m\u001b[0m \u001b[1m10s\u001b[0m 5ms/step - accuracy: 0.9110 - loss: 0.2369\n",
            "Epoch 9/15\n",
            "\u001b[1m1875/1875\u001b[0m \u001b[32m━━━━━━━━━━━━━━━━━━━━\u001b[0m\u001b[37m\u001b[0m \u001b[1m11s\u001b[0m 6ms/step - accuracy: 0.9133 - loss: 0.2317\n",
            "Epoch 10/15\n",
            "\u001b[1m1875/1875\u001b[0m \u001b[32m━━━━━━━━━━━━━━━━━━━━\u001b[0m\u001b[37m\u001b[0m \u001b[1m9s\u001b[0m 5ms/step - accuracy: 0.9181 - loss: 0.2181\n",
            "Epoch 11/15\n",
            "\u001b[1m1875/1875\u001b[0m \u001b[32m━━━━━━━━━━━━━━━━━━━━\u001b[0m\u001b[37m\u001b[0m \u001b[1m11s\u001b[0m 6ms/step - accuracy: 0.9196 - loss: 0.2141\n",
            "Epoch 12/15\n",
            "\u001b[1m1875/1875\u001b[0m \u001b[32m━━━━━━━━━━━━━━━━━━━━\u001b[0m\u001b[37m\u001b[0m \u001b[1m10s\u001b[0m 6ms/step - accuracy: 0.9239 - loss: 0.2030\n",
            "Epoch 13/15\n",
            "\u001b[1m1875/1875\u001b[0m \u001b[32m━━━━━━━━━━━━━━━━━━━━\u001b[0m\u001b[37m\u001b[0m \u001b[1m11s\u001b[0m 6ms/step - accuracy: 0.9268 - loss: 0.1947\n",
            "Epoch 14/15\n",
            "\u001b[1m1875/1875\u001b[0m \u001b[32m━━━━━━━━━━━━━━━━━━━━\u001b[0m\u001b[37m\u001b[0m \u001b[1m9s\u001b[0m 5ms/step - accuracy: 0.9270 - loss: 0.1929\n",
            "Epoch 15/15\n",
            "\u001b[1m1875/1875\u001b[0m \u001b[32m━━━━━━━━━━━━━━━━━━━━\u001b[0m\u001b[37m\u001b[0m \u001b[1m11s\u001b[0m 5ms/step - accuracy: 0.9310 - loss: 0.1823\n",
            "\n",
            "Evaluating on test set:\n",
            "\n",
            "\u001b[1m313/313\u001b[0m \u001b[32m━━━━━━━━━━━━━━━━━━━━\u001b[0m\u001b[37m\u001b[0m \u001b[1m1s\u001b[0m 2ms/step - accuracy: 0.8912 - loss: 0.3438\n",
            "\n",
            "Predicting using test set:\n",
            "\n",
            "\u001b[1m313/313\u001b[0m \u001b[32m━━━━━━━━━━━━━━━━━━━━\u001b[0m\u001b[37m\u001b[0m \u001b[1m1s\u001b[0m 2ms/step\n",
            "\n",
            "True class for first image on test set: 9\n",
            "Probability of each class:\n",
            "[1.0798129e-10 1.6660321e-13 4.9893791e-13 5.0639157e-15 2.9017281e-12 3.2031235e-06 9.9158670e-13 5.2499468e-03 5.5179982e-14 9.9474686e-01]\n"
          ]
        }
      ]
    },
    {
      "cell_type": "code",
      "source": [
        "import tensorflow as tf\n",
        "fmnist = tf.keras.datasets.fashion_mnist\n",
        "(x_train, y_train), (x_test, y_test) = fmnist.load_data()\n",
        "x_train, x_test = x_train / 255.0, x_test / 255.0"
      ],
      "metadata": {
        "id": "Q2EiSEhqczY1"
      },
      "execution_count": 31,
      "outputs": []
    },
    {
      "cell_type": "code",
      "source": [
        "class myCallback(tf.keras.callbacks.Callback):\n",
        "  def on_epoch_end(self, epoch, logs={}):\n",
        "    if logs['loss'] < 0.4:\n",
        "      print(\"\\nLoss is lower than 0.4, so cancelling the training\")\n",
        "      self.model.stop_training = True\n",
        "\n",
        "callbacks = myCallbackmodel = tf.keras.models.Sequential([\n",
        "    tf.keras.Input(shape=(28,28)),\n",
        "    tf.keras.layers.Flatten(),\n",
        "    tf.keras.layers.Dense(512, activation=tf.nn.relu),\n",
        "    tf.keras.layers.Dense(10, activation=tf.nn.softmax)\n",
        "])\n",
        "model.compile(optimizer=tf.optimizers.Adam(),\n",
        "              loss = 'sparse_categorical_crossentropy',\n",
        "              metrics=['accuracy'])\n",
        "model.fit(x_train, y_train, epochs=10, callbacks=[myCallback()])"
      ],
      "metadata": {
        "colab": {
          "base_uri": "https://localhost:8080/"
        },
        "id": "hxrhJfIRdGLD",
        "outputId": "0c71e31f-3451-45a9-a419-ae2d5f57da70"
      },
      "execution_count": 32,
      "outputs": [
        {
          "output_type": "stream",
          "name": "stdout",
          "text": [
            "Epoch 1/10\n",
            "\u001b[1m1875/1875\u001b[0m \u001b[32m━━━━━━━━━━━━━━━━━━━━\u001b[0m\u001b[37m\u001b[0m \u001b[1m11s\u001b[0m 5ms/step - accuracy: 0.7921 - loss: 0.5920\n",
            "Epoch 2/10\n",
            "\u001b[1m1864/1875\u001b[0m \u001b[32m━━━━━━━━━━━━━━━━━━━\u001b[0m\u001b[37m━\u001b[0m \u001b[1m0s\u001b[0m 5ms/step - accuracy: 0.8659 - loss: 0.3644\n",
            "Loss is lower than 0.4, so cancelling the training\n",
            "\u001b[1m1875/1875\u001b[0m \u001b[32m━━━━━━━━━━━━━━━━━━━━\u001b[0m\u001b[37m\u001b[0m \u001b[1m9s\u001b[0m 5ms/step - accuracy: 0.8659 - loss: 0.3644\n"
          ]
        },
        {
          "output_type": "execute_result",
          "data": {
            "text/plain": [
              "<keras.src.callbacks.history.History at 0x7d24d579f010>"
            ]
          },
          "metadata": {},
          "execution_count": 32
        }
      ]
    },
    {
      "cell_type": "code",
      "source": [],
      "metadata": {
        "id": "1ljYNpqVePJ8"
      },
      "execution_count": null,
      "outputs": []
    }
  ]
}